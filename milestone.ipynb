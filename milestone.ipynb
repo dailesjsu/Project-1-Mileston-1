{
 "cells": [
  {
   "cell_type": "code",
   "execution_count": null,
   "metadata": {},
   "outputs": [],
   "source": [
    "from flask import Flask\n",
    "from flask import render_template\n",
    "\n",
    "app = Flask(__name__)\n",
    "\n",
    "@app.route('/')\n",
    "def finance():\n",
    "\n",
    "    name = 'buddy'\n",
    "    title='Cash Course'\n",
    "\n",
    "    return render_template('login.html',homen=name, title=title)\n",
    "@app.route('/afterlogin')\n",
    "def afterlogin():\n",
    "    name = 'buddy'\n",
    "    title=''\n",
    "\n",
    "    return render_template('afterlogin.html',homen=name, title='Cash Course')\n",
    "    \n",
    "@app.route('/expenditure')\n",
    "def spending():\n",
    "    name = 'buddy'\n",
    "    title=''\n",
    " \n",
    "    return render_template('spending.html',homen=name, title='Expenditure')\n",
    "@app.route('/income')\n",
    "def income():\n",
    "    name = 'buddy'\n",
    "    title=''\n",
    "        \n",
    "    return render_template('income.html',homen=name, title='Income')\n",
    "\n",
    "if __name__ == '__main__':\n",
    "    app.run()"
   ]
  },
  {
   "cell_type": "code",
   "execution_count": null,
   "metadata": {},
   "outputs": [],
   "source": []
  },
  {
   "cell_type": "code",
   "execution_count": null,
   "metadata": {},
   "outputs": [],
   "source": []
  }
 ],
 "metadata": {
  "kernelspec": {
   "display_name": "Python 3",
   "language": "python",
   "name": "python3"
  },
  "language_info": {
   "codemirror_mode": {
    "name": "ipython",
    "version": 3
   },
   "file_extension": ".py",
   "mimetype": "text/x-python",
   "name": "python",
   "nbconvert_exporter": "python",
   "pygments_lexer": "ipython3",
   "version": "3.7.3"
  }
 },
 "nbformat": 4,
 "nbformat_minor": 2
}
